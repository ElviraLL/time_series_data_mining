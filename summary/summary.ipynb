{
 "cells": [
  {
   "cell_type": "markdown",
   "metadata": {},
   "source": [
    "## last week:\n",
    "\n",
    "- Study on Clustering methods to label the \"fake\" bot series\n",
    "    - tried K means in DTW, several version of speed up(not very good, because mean is not the minimizer of DTW distance)\n",
    "    - tried Hierarchical Clustering: used distance on windowed DTW, LB_Keogh: not very efficient\n",
    "- Calculate Distance matrix in DTW (very slow, rewrite a cluster computing version flavor of code to calculate)\n",
    "    - slow but with full information. Wanna to see the effect and then consider about speed up\n",
    "    \n",
    "\n",
    "## This Week:\n",
    "- Clustering method and Classification method based on raw data.\n",
    "- think about if it is possible to build a model-based clustering or classification algorithm.\n",
    "\n",
    "# Clustering\n",
    "\n",
    "\n",
    "For time series data, there are 3 approaches of clustering and classification:\n",
    "- raw data based approach: redefine the distance \n",
    "- feature based approach: extract feature from time series and do regular algorithm\n",
    "- model based approach: assume the data are coming from a underline model or distribution, train the distribution and do classification or clustering\n",
    "\n",
    "I did the research mainly on raw data based approach\n",
    "\n",
    "## Raw Data Based Approach ---- using Dynamic Time Warping distance\n",
    "### k-means methods\n",
    "\n",
    "goal: divide the fake bot away \n",
    "result are like this:\n",
    "<img src=\"k-means.png\">\n",
    "We can easily see that there is a clear difference between the two cluster:\n",
    "the one cluster has high quentity and high frequcy however the other cluster has less quentity and less frequency\n",
    "\n",
    "#### problem\n",
    "DTW is not minimized by the mean; k-means may not converge. The mean is an least-squares estimator on the coordinates. It minimizes variance, not arbitrary distances, and k-means is designed for minimizing variance, not arbitrary distances.\n",
    "\n",
    "Write now my algorithm: compare the time series by DTW distance, but calculate the centroid by Euclidean distance. This algorithm may not proform well in large data set.\n",
    "\n",
    "To avoid bad proformance, use hierarchical clustering \n",
    "\n",
    "### hierarchical clustering\n",
    "used DTW distance, complete linkage, the result are like this:\n",
    "<img src=\"heri.png\">\n",
    "combine with data and graph, hierarchical clustering can divide the crazy bot from mild bot clearly. The right cluster is the crazy cluster like:\n",
    "<img src=\"crazy_bot.png\">\n",
    "left cluster are less crazy bot and mild bot like:\n",
    "<img src=\"mild_bot.png\">\n",
    "\n",
    "\n",
    "\n",
    "#### hierarchical clustering with only 20 sample\n",
    "To understand more about how does the algorithm proforms\n",
    "<img src=\"20sample.png\">\n",
    "and from this, I plot all the time series to see what exactly happen behind the code:\n",
    "<img src=\"20timeseries.png\">\n",
    "From above two plot, we can see that the crazy bot (user 1 and user 11)are well divided from the train data. But then when the frequency become much smaller then the crazy bot, the algorithm massed up.\n",
    "\n",
    "#### problem：\n",
    "Can't really tell mild bot and human like bot\n",
    "for example: During one month, it is very hard to tell the difference between the bot who has one hit in a hour and 100 hit in a hour\n",
    "two possible approach:\n",
    "- normalize the distance matrix\n",
    "- add other time series(like add click impression or buy now action) to data set form a multivariate time series\n",
    "- extract some feature(like sparsity or maximum or average traffic in a month) then form a feature/data hybird new distance.\n",
    "\n",
    "#### IDEAL CLUSTER\n",
    "Iedaly, I hope to find a way to divid the bot into those 5 groups:\n",
    "<img src=\"idealcluster.png\">\n",
    "<img src='idealcluster1.png'>\n"
   ]
  },
  {
   "cell_type": "code",
   "execution_count": null,
   "metadata": {
    "collapsed": true
   },
   "outputs": [],
   "source": []
  },
  {
   "cell_type": "code",
   "execution_count": null,
   "metadata": {
    "collapsed": true
   },
   "outputs": [],
   "source": []
  }
 ],
 "metadata": {
  "kernelspec": {
   "display_name": "Python 3",
   "language": "python",
   "name": "python3"
  },
  "language_info": {
   "codemirror_mode": {
    "name": "ipython",
    "version": 3
   },
   "file_extension": ".py",
   "mimetype": "text/x-python",
   "name": "python",
   "nbconvert_exporter": "python",
   "pygments_lexer": "ipython3",
   "version": "3.5.1"
  }
 },
 "nbformat": 4,
 "nbformat_minor": 0
}
